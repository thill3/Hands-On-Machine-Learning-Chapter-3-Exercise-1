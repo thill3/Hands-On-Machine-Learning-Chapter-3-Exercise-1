{
 "cells": [
  {
   "cell_type": "code",
   "execution_count": null,
   "metadata": {},
   "outputs": [],
   "source": [
    "###\n",
    "#Exercise 1\n",
    "###"
   ]
  },
  {
   "cell_type": "code",
   "execution_count": null,
   "metadata": {},
   "outputs": [],
   "source": [
    "#Fetching MNIST\n",
    "#this is different than the book, but I found it on stackoverflow\n",
    "from sklearn.datasets import fetch_openml\n",
    "mnist = fetch_openml('mnist_784')\n",
    "#mnist"
   ]
  },
  {
   "cell_type": "code",
   "execution_count": null,
   "metadata": {},
   "outputs": [],
   "source": [
    "#note the keys\n",
    "#data, target, feature names, etc,\n",
    "X, y = mnist['data'], mnist['target']"
   ]
  },
  {
   "cell_type": "code",
   "execution_count": null,
   "metadata": {},
   "outputs": [],
   "source": [
    "x_train, x_test, y_train, y_test = X[:60000], X[60000:], y[:60000], y[60000:]"
   ]
  },
  {
   "cell_type": "code",
   "execution_count": null,
   "metadata": {},
   "outputs": [],
   "source": [
    "import numpy as np\n",
    "\n",
    "shuffle_index = np.random.permutation(60000)\n",
    "x_train, y_train = x_train[shuffle_index], y_train[shuffle_index]"
   ]
  },
  {
   "cell_type": "code",
   "execution_count": null,
   "metadata": {},
   "outputs": [],
   "source": [
    "#So let's do a smaller set of parameters than what I'd usually do\n",
    "param_grid = [\n",
    "    {'n_neighbors': [4,5,6]\n",
    "     ,  'weights': ['uniform', 'distance']\n",
    "    }\n",
    "]\n",
    "\n",
    "grid_search = GridSearchCV(knn_clf, param_grid, cv = 5, scoring = 'neg_mean_squared_error', n_jobs = 3)\n",
    "\n",
    "grid_search.fit(x_train, y_train)\n",
    "\n",
    "print(grid_search.best_params_)\n",
    "\n",
    "print(grid_search.best_estimator_)"
   ]
  },
  {
   "cell_type": "code",
   "execution_count": null,
   "metadata": {},
   "outputs": [],
   "source": [
    "#4 neighbors, weights = 'distance'\n",
    "# What about fewer neighbors?\n",
    "param_grid = [\n",
    "    {'n_neighbors': [2,3,4]\n",
    "     ,  'weights': ['uniform', 'distance']\n",
    "    }\n",
    "]\n",
    "\n",
    "grid_search = GridSearchCV(knn_clf, param_grid, cv = 5, scoring = 'neg_mean_squared_error', n_jobs = 3)\n",
    "\n",
    "grid_search.fit(x_train, y_train)\n",
    "\n",
    "print(grid_search.best_params_)\n",
    "\n",
    "print(grid_search.best_estimator_)"
   ]
  },
  {
   "cell_type": "code",
   "execution_count": null,
   "metadata": {},
   "outputs": [],
   "source": [
    "#So in both sets of parameters it is the case that n_neighbors=4 and weights = 'distance' are the best option\n",
    "from sklearn.model_selection import cross_val_predict\n",
    "knn_clf_2 = KNeighborsClassifier(n_neighbors = 4, weights = 'distance', n_jobs = 3)\n",
    "#cross validation predictions\n",
    "y_train_knn_pred = cross_val_predict(knn_clf_2, x_train, y_train, cv = 3)"
   ]
  },
  {
   "cell_type": "code",
   "execution_count": null,
   "metadata": {},
   "outputs": [],
   "source": [
    "#use the confusion_matrix() function\n",
    "from sklearn.metrics import confusion_matrix\n",
    "conf_mat = confusion_matrix(y_train, y_train_knn_pred)\n",
    "print(conf_mat)\n",
    "\n",
    "acc_train = conf_mat.trace()/conf_mat.sum()\n",
    "print(acc_train)"
   ]
  },
  {
   "cell_type": "code",
   "execution_count": null,
   "metadata": {},
   "outputs": [],
   "source": [
    "#so 97.20833% accuracy on the training set.\n",
    "#What about the test set?\n",
    "'''\n",
    "y_test_knn_pred = cross_val_predict(knn_clf_2, x_test, y_test, cv = 3)\n",
    "conf_mat = confusion_matrix(y_test, y_test_knn_pred)\n",
    "acc_test = conf_mat.trace()/conf_mat.sum()\n",
    "print(acc_test)\n",
    "'''\n",
    "#Give 94.11%"
   ]
  },
  {
   "cell_type": "code",
   "execution_count": null,
   "metadata": {},
   "outputs": [],
   "source": [
    "#book's answer is 97% on the train set rather than on the test set.\n",
    "#So I don't have to go any further.\n",
    "#If I wanted to then I'd do what's below."
   ]
  },
  {
   "cell_type": "code",
   "execution_count": null,
   "metadata": {},
   "outputs": [],
   "source": [
    "#94.11% accuracy\n",
    "#The goal is 97%"
   ]
  },
  {
   "cell_type": "code",
   "execution_count": null,
   "metadata": {},
   "outputs": [],
   "source": []
  }
 ],
 "metadata": {
  "kernelspec": {
   "display_name": "Python 3",
   "language": "python",
   "name": "python3"
  },
  "language_info": {
   "codemirror_mode": {
    "name": "ipython",
    "version": 3
   },
   "file_extension": ".py",
   "mimetype": "text/x-python",
   "name": "python",
   "nbconvert_exporter": "python",
   "pygments_lexer": "ipython3",
   "version": "3.8.1"
  }
 },
 "nbformat": 4,
 "nbformat_minor": 4
}
